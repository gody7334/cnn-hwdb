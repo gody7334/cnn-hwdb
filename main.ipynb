{
 "cells": [
  {
   "cell_type": "code",
   "execution_count": null,
   "metadata": {
    "collapsed": true
   },
   "outputs": [],
   "source": [
    "!python resnet_main.py \\\n",
    "--train_data_path=/home/data/HWDB1-test/*-c.gnt \\\n",
    "--log_root=/home/ipython/cnn-chinese-hand-writing/tb-log/hwdb1-resnet5/log \\\n",
    "--train_dir=/home/ipython/cnn-chinese-hand-writing/tb-log/hwdb1-resnet5/train \\\n",
    "--num_residual_units=5 \\\n",
    "--dataset='hwdb1' --num_gpus=1"
   ]
  }
 ],
 "metadata": {
  "kernelspec": {
   "display_name": "Python 2",
   "language": "python",
   "name": "python2"
  },
  "language_info": {
   "codemirror_mode": {
    "name": "ipython",
    "version": 2
   },
   "file_extension": ".py",
   "mimetype": "text/x-python",
   "name": "python",
   "nbconvert_exporter": "python",
   "pygments_lexer": "ipython2",
   "version": "2.7.12"
  }
 },
 "nbformat": 4,
 "nbformat_minor": 2
}
