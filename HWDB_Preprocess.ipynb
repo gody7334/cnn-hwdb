{
 "cells": [
  {
   "cell_type": "code",
   "execution_count": 5,
   "metadata": {},
   "outputs": [],
   "source": [
    "import os\n",
    "import sys, traceback\n",
    "import numpy as np\n",
    "import struct\n",
    "import PIL.Image\n",
    "import matplotlib.pyplot as plt\n",
    "\n",
    "%matplotlib inline\n",
    "plt.rcParams['figure.figsize'] = (10.0, 8.0) # set default size of plots\n",
    "plt.rcParams['image.interpolation'] = 'nearest'\n",
    "plt.rcParams['image.cmap'] = 'gray'\n"
   ]
  },
  {
   "cell_type": "code",
   "execution_count": 9,
   "metadata": {},
   "outputs": [
    {
     "data": {
      "image/png": "[encoded data removed]",
      "text/plain": [
       "<matplotlib.figure.Figure at 0x7f4b073c2510>"
      ]
     },
     "metadata": {},
     "output_type": "display_data"
    },
    {
     "ename": "SystemExit",
     "evalue": "0",
     "output_type": "error",
     "traceback": [
      "An exception has occurred, use %tb to see the full traceback.\n",
      "\u001b[0;31mSystemExit\u001b[0m\u001b[0;31m:\u001b[0m 0\n"
     ]
    }
   ],
   "source": [
    "train_data_dir = \"/home/data/HWDB1-test/\"\n",
    "test_data_dir = \"/home/data/HWDB1-test/\"\n",
    "\n",
    "# 读取图像和对应的汉字\n",
    "def read_from_gnt_dir(gnt_dir=train_data_dir):\n",
    "    def one_file(f):\n",
    "        header_size = 10\n",
    "        while True:\n",
    "            header = np.fromfile(f, dtype='uint8', count=header_size)\n",
    "            if not header.size: break\n",
    "            sample_size = header[0] + (header[1]<<8) + (header[2]<<16) + (header[3]<<24)\n",
    "            tagcode = header[5] + (header[4]<<8)\n",
    "            width = header[6] + (header[7]<<8)\n",
    "            height = header[8] + (header[9]<<8)\n",
    "            if header_size + width*height != sample_size:\n",
    "                break\n",
    "            image = np.fromfile(f, dtype='uint8', count=width*height).reshape((height, width))\n",
    "            yield image, tagcode\n",
    "\n",
    "    for file_name in os.listdir(gnt_dir):\n",
    "        if file_name.endswith('.gnt'):\n",
    "            file_path = os.path.join(gnt_dir, file_name)\n",
    "            with open(file_path, 'rb') as f:\n",
    "                for image, tagcode in one_file(f):\n",
    "                    yield image, tagcode\n",
    "\n",
    "# 统计样本数\n",
    "train_counter = 0\n",
    "test_counter = 0\n",
    "for image, tagcode in read_from_gnt_dir(gnt_dir=train_data_dir):\n",
    "    tagcode_unicode = struct.pack('>H', tagcode).decode('gb2312')\n",
    "    # 提取点图像, 看看什么样\n",
    "    if train_counter < 1000:\n",
    "        im = PIL.Image.fromarray(image)\n",
    "        im.convert('RGB').save(tagcode_unicode.encode('ascii','ignore') + str(train_counter) + '.png')\n",
    "        plt.imshow(image)\n",
    "        plt.title('%s' % (tagcode_unicode))\n",
    "        plt.axis('off')\n",
    "        plt.show()\n",
    "    train_counter += 1\n",
    "for image, tagcode in read_from_gnt_dir(gnt_dir=test_data_dir):\n",
    "    tagcode_unicode = struct.pack('>H', tagcode).decode('gb2312')\n",
    "    test_counter += 1\n",
    "\n",
    "# 样本数\n",
    "print(train_counter, test_counter)"
   ]
  }
 ],
 "metadata": {
  "kernelspec": {
   "display_name": "Python 2",
   "language": "python",
   "name": "python2"
  },
  "language_info": {
   "codemirror_mode": {
    "name": "ipython",
    "version": 2
   },
   "file_extension": ".py",
   "mimetype": "text/x-python",
   "name": "python",
   "nbconvert_exporter": "python",
   "pygments_lexer": "ipython2",
   "version": "2.7.12"
  }
 },
 "nbformat": 4,
 "nbformat_minor": 2
}
