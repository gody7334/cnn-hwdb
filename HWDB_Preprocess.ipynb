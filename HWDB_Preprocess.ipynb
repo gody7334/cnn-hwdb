{
 "cells": [
  {
   "cell_type": "code",
   "execution_count": 1,
   "metadata": {
    "collapsed": true
   },
   "outputs": [],
   "source": [
    "import os\n",
    "import sys, traceback\n",
    "import numpy as np\n",
    "import struct\n",
    "import PIL.Image\n",
    "import matplotlib.pyplot as plt\n",
    "import scipy.misc\n",
    "import os.path\n",
    "import binascii\n",
    "from pprint import pprint\n",
    "\n",
    "%matplotlib inline\n",
    "plt.rcParams['figure.figsize'] = (4.0, 4.0) # set default size of plots\n",
    "plt.rcParams['image.interpolation'] = 'nearest'\n",
    "plt.rcParams['image.cmap'] = 'gray'\n"
   ]
  },
  {
   "cell_type": "code",
   "execution_count": 2,
   "metadata": {
    "collapsed": true
   },
   "outputs": [],
   "source": [
    "# 读取图像和对应的汉字\n",
    "def read_from_gnt_dir(gnt_dir):\n",
    "    def one_file(f):\n",
    "        header_size = 10\n",
    "        while True:\n",
    "            header = np.fromfile(f, dtype='uint8', count=header_size)\n",
    "            if not header.size: break\n",
    "            sample_size = header[0] + (header[1]<<8) + (header[2]<<16) + (header[3]<<24)\n",
    "            tagcode = header[5] + (header[4]<<8)\n",
    "            width = header[6] + (header[7]<<8)\n",
    "            height = header[8] + (header[9]<<8)\n",
    "            if header_size + width*height != sample_size:\n",
    "                break\n",
    "            image = np.fromfile(f, dtype='uint8', count=width*height).reshape((height, width))\n",
    "            yield image, tagcode\n",
    "\n",
    "    for file_name in os.listdir(gnt_dir):\n",
    "        if file_name.endswith('.gnt'):\n",
    "            file_path = os.path.join(gnt_dir, file_name)\n",
    "            with open(file_path, 'rb') as f:\n",
    "                for image, tagcode in one_file(f):\n",
    "                    yield image, tagcode\n",
    "\n",
    "def resize_and_normalize_image(img):\n",
    "    # 补方\n",
    "    pad_size = abs(img.shape[0]-img.shape[1]) // 2\n",
    "    if img.shape[0] < img.shape[1]:\n",
    "        pad_dims = ((pad_size, pad_size), (0, 0))\n",
    "    else:\n",
    "        pad_dims = ((0, 0), (pad_size, pad_size))\n",
    "    img = np.lib.pad(img, pad_dims, mode='constant', constant_values=255)\n",
    "    # 缩放\n",
    "    img = scipy.misc.imresize(img, (64 - 4*2, 64 - 4*2))\n",
    "    img = np.lib.pad(img, ((4, 4), (4, 4)), mode='constant', constant_values=255)\n",
    "    #assert img.shape == (64, 64)\n",
    "    \n",
    "    img = scipy.misc.imresize(img, (32,32))\n",
    "    assert img.shape == (32, 32)\n",
    "\n",
    "#     img = img.flatten()\n",
    "#     像素值范围-1到1\n",
    "#     img = (img - 128) / 128？\n",
    "    return img\n",
    "\n",
    "def write_image_to_dir(file_dir, image, tagcode):\n",
    "    file = None\n",
    "    if os.path.isfile(file_dir) is False:\n",
    "        file = open(file_dir, 'wb')\n",
    "    else:\n",
    "        file = open(file_dir, 'ab')\n",
    "    image = image.flatten()\n",
    "    file.write(np.int16(tagcode))\n",
    "    file.write(image)\n",
    "    file.close()\n",
    "\n",
    "def show_image(image, tagcode_unicode):\n",
    "#   im = PIL.Image.fromarray(image)\n",
    "#   im.convert('RGB').save(tagcode_unicode.encode('ascii','ignore') + str(train_counter) + '.png')\n",
    "    print(tagcode_unicode)\n",
    "    plt.imshow(image)\n",
    "#         plt.title('%s' % (tagcode_unicode))\n",
    "    plt.axis('off')\n",
    "    plt.show()\n",
    "\n",
    "words = {}\n",
    "category = 0\n",
    "def words_summery(tag):\n",
    "    global category, words\n",
    "    tagcode_unicode = struct.pack('>H', tag).decode('gb2312')\n",
    "    word = words.get(tagcode)\n",
    "    if word is not None:\n",
    "        word['count']+=1\n",
    "        c = word['category']\n",
    "#         pprint(words)\n",
    "#         sys.exit()\n",
    "    else:\n",
    "        words[tagcode] = {'count':1,'category':category,'w':tagcode_unicode}\n",
    "        c = category\n",
    "        category += 1\n",
    "    return c"
   ]
  },
  {
   "cell_type": "code",
   "execution_count": null,
   "metadata": {
    "scrolled": true
   },
   "outputs": [
    {
     "name": "stdout",
     "output_type": "stream",
     "text": [
      "姑\n"
     ]
    },
    {
     "data": {
      "image/png": "[encoded data removed]",
      "text/plain": [
       "<matplotlib.figure.Figure at 0x7fde230e1e10>"
      ]
     },
     "metadata": {},
     "output_type": "display_data"
    },
    {
     "name": "stdout",
     "output_type": "stream",
     "text": [
      "撰\n"
     ]
    },
    {
     "data": {
      "image/png": "[encoded data removed]",
      "text/plain": [
       "<matplotlib.figure.Figure at 0x7fddeeac1f10>"
      ]
     },
     "metadata": {},
     "output_type": "display_data"
    },
    {
     "name": "stdout",
     "output_type": "stream",
     "text": [
      "懦\n"
     ]
    },
    {
     "data": {
      "image/png": "[encoded data removed]",
      "text/plain": [
       "<matplotlib.figure.Figure at 0x7fddee9b5c50>"
      ]
     },
     "metadata": {},
     "output_type": "display_data"
    }
   ],
   "source": [
    "train_data_dir = \"/home/data/HWDB1-train/\"\n",
    "test_data_dir = \"/home/data/HWDB1-test/\"\n",
    "train_binary = \"/home/data/HWDB1-bin/train.bin\"\n",
    "test_binary = \"/home/data/HWDB1-bin/test.bin\"\n",
    "\n",
    "# 统计样本数\n",
    "train_counter = 0\n",
    "test_counter = 0\n",
    "\n",
    "\n",
    "for image, tagcode in read_from_gnt_dir(gnt_dir=train_data_dir):  \n",
    "    c = words_summery(tagcode)\n",
    "    image = resize_and_normalize_image(image)\n",
    "    write_image_to_dir(train_binary, image, c)\n",
    "    tagcode_unicode = struct.pack('>H', tagcode).decode('gb2312')\n",
    "    # 提取点图像, 看看什么样\n",
    "    train_counter += 1\n",
    "    if train_counter % 100000 == 0:\n",
    "        show_image(image, tagcode_unicode)\n",
    "    \n",
    "for image, tagcode in read_from_gnt_dir(gnt_dir=test_data_dir):\n",
    "    c = words_summery(tagcode)\n",
    "    image = resize_and_normalize_image(image)\n",
    "    write_image_to_dir(test_binary, image, c)\n",
    "    tagcode_unicode = struct.pack('>H', tagcode).decode('gb2312')\n",
    "    test_counter += 1\n",
    "    if test_counter % 100000 == 0:\n",
    "        show_image(image, tagcode_unicode)\n",
    "\n",
    "# 样本数\n",
    "print(train_counter, test_counter)\n",
    "\n",
    "# statistic\n",
    "pprint(words)"
   ]
  },
  {
   "cell_type": "code",
   "execution_count": 21,
   "metadata": {},
   "outputs": [
    {
     "name": "stdout",
     "output_type": "stream",
     "text": [
      "<type 'numpy.ndarray'>\n",
      "00010203\n"
     ]
    }
   ],
   "source": [
    "import binascii\n",
    "x = np.array([[0, 1], [2, 3]]).astype('uint8')\n",
    "print(type(x))\n",
    "print(binascii.hexlify(x.tobytes()))"
   ]
  }
 ],
 "metadata": {
  "kernelspec": {
   "display_name": "Python 2",
   "language": "python",
   "name": "python2"
  },
  "language_info": {
   "codemirror_mode": {
    "name": "ipython",
    "version": 2
   },
   "file_extension": ".py",
   "mimetype": "text/x-python",
   "name": "python",
   "nbconvert_exporter": "python",
   "pygments_lexer": "ipython2",
   "version": "2.7.12"
  }
 },
 "nbformat": 4,
 "nbformat_minor": 2
}
