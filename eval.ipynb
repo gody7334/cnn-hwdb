{
 "cells": [
  {
   "cell_type": "code",
   "execution_count": null,
   "metadata": {
    "collapsed": true
   },
   "outputs": [],
   "source": []
  },
  {
   "cell_type": "code",
   "execution_count": null,
   "metadata": {
    "scrolled": true
   },
   "outputs": [
    {
     "name": "stdout",
     "output_type": "stream",
     "text": [
      "1026\n",
      "(?,)\n",
      "(?,)\n",
      "(32, 32, 1)\n",
      "(1,)\n",
      "(32, 32, 1)\n",
      "(1,)\n",
      "2017-06-14 08:14:34.747940: W tensorflow/core/platform/cpu_feature_guard.cc:45] The TensorFlow library wasn't compiled to use SSE4.1 instructions, but these are available on your machine and could speed up CPU computations.\n",
      "2017-06-14 08:14:34.747985: W tensorflow/core/platform/cpu_feature_guard.cc:45] The TensorFlow library wasn't compiled to use SSE4.2 instructions, but these are available on your machine and could speed up CPU computations.\n",
      "2017-06-14 08:14:34.748002: W tensorflow/core/platform/cpu_feature_guard.cc:45] The TensorFlow library wasn't compiled to use AVX instructions, but these are available on your machine and could speed up CPU computations.\n",
      "2017-06-14 08:14:34.864761: I tensorflow/stream_executor/cuda/cuda_gpu_executor.cc:901] successful NUMA node read from SysFS had negative value (-1), but there must be at least one NUMA node, so returning NUMA node zero\n",
      "2017-06-14 08:14:34.865054: I tensorflow/core/common_runtime/gpu/gpu_device.cc:887] Found device 0 with properties: \n",
      "name: GeForce GTX 980\n",
      "major: 5 minor: 2 memoryClockRate (GHz) 1.342\n",
      "pciBusID 0000:01:00.0\n",
      "Total memory: 3.94GiB\n",
      "Free memory: 3.49GiB\n",
      "2017-06-14 08:14:34.865075: I tensorflow/core/common_runtime/gpu/gpu_device.cc:908] DMA: 0 \n",
      "2017-06-14 08:14:34.865092: I tensorflow/core/common_runtime/gpu/gpu_device.cc:918] 0:   Y \n",
      "2017-06-14 08:14:34.865108: I tensorflow/core/common_runtime/gpu/gpu_device.cc:977] Creating TensorFlow device (/gpu:0) -> (device: 0, name: GeForce GTX 980, pci bus id: 0000:01:00.0)\n",
      "INFO:tensorflow:Loading checkpoint /home/ipython/cnn-chinese-hand-writing/tb-log/hwdb1-resnet-w28-10/log/model.ckpt-82617\n",
      "INFO:tensorflow:Restoring parameters from /home/ipython/cnn-chinese-hand-writing/tb-log/hwdb1-resnet-w28-10/log/model.ckpt-82617\n",
      "2017-06-14 08:14:36.919742: W tensorflow/core/common_runtime/bfc_allocator.cc:217] Allocator (GPU_0_bfc) ran out of memory trying to allocate 2.34GiB. The caller indicates that this is not a failure, but may mean that there could be performance gains if more memory is available.\n",
      "INFO:tensorflow:loss: 0.639, precision: 0.956, best precision: 0.956\n",
      "INFO:tensorflow:Loading checkpoint /home/ipython/cnn-chinese-hand-writing/tb-log/hwdb1-resnet-w28-10/log/model.ckpt-82617\n",
      "INFO:tensorflow:Restoring parameters from /home/ipython/cnn-chinese-hand-writing/tb-log/hwdb1-resnet-w28-10/log/model.ckpt-82617\n",
      "INFO:tensorflow:loss: 0.654, precision: 0.956, best precision: 0.956\n",
      "INFO:tensorflow:Loading checkpoint /home/ipython/cnn-chinese-hand-writing/tb-log/hwdb1-resnet-w28-10/log/model.ckpt-82617\n",
      "INFO:tensorflow:Restoring parameters from /home/ipython/cnn-chinese-hand-writing/tb-log/hwdb1-resnet-w28-10/log/model.ckpt-82617\n",
      "^C\n",
      "Traceback (most recent call last):\n",
      "  File \"resnet_main.py\", line 221, in <module>\n",
      "    tf.app.run()\n",
      "  File \"/usr/local/lib/python2.7/dist-packages/tensorflow/python/platform/app.py\", line 48, in run\n",
      "    _sys.exit(main(_sys.argv[:1] + flags_passthrough))\n",
      "  File \"resnet_main.py\", line 216, in main\n",
      "    evaluate(hps)\n",
      "  File \"resnet_main.py\", line 154, in evaluate\n",
      "    model.labels, model.global_step])\n",
      "  File \"/usr/local/lib/python2.7/dist-packages/tensorflow/python/client/session.py\", line 778, in run\n",
      "    run_metadata_ptr)\n",
      "  File \"/usr/local/lib/python2.7/dist-packages/tensorflow/python/client/session.py\", line 982, in _run\n",
      "    feed_dict_string, options, run_metadata)\n",
      "  File \"/usr/local/lib/python2.7/dist-packages/tensorflow/python/client/session.py\", line 1032, in _do_run\n",
      "    target_list, options, run_metadata)\n",
      "  File \"/usr/local/lib/python2.7/dist-packages/tensorflow/python/client/session.py\", line 1039, in _do_call\n",
      "    return fn(*args)\n",
      "  File \"/usr/local/lib/python2.7/dist-packages/tensorflow/python/client/session.py\", line 1021, in _run_fn\n",
      "    status, run_metadata)\n",
      "KeyboardInterrupt\n"
     ]
    }
   ],
   "source": [
    "# w28-10 set filter in resnet_model\n",
    "!python resnet_main.py \\\n",
    "--eval_data_path=/home/data/HWDB1-bin/test.bin \\\n",
    "--log_root=/home/ipython/cnn-chinese-hand-writing/tb-log/hwdb1-resnet-w28-10/log \\\n",
    "--eval_dir=/home/ipython/cnn-chinese-hand-writing/tb-log/hwdb1-resnet-w28-10/test \\\n",
    "--mode=eval --num_residual_units=2 \\\n",
    "--dataset='hwdb1' --num_gpus=1"
   ]
  },
  {
   "cell_type": "code",
   "execution_count": null,
   "metadata": {
    "collapsed": true
   },
   "outputs": [],
   "source": [
    "# resnet-w28-10 units=2 accuracy: 95.6\n",
    "# resnet15-accuracy: 94.2\n",
    "# resnet10-accuracy: 93.9\n",
    "# resnet5-accuracy: 92.9"
   ]
  }
 ],
 "metadata": {
  "kernelspec": {
   "display_name": "Python 2",
   "language": "python",
   "name": "python2"
  },
  "language_info": {
   "codemirror_mode": {
    "name": "ipython",
    "version": 2
   },
   "file_extension": ".py",
   "mimetype": "text/x-python",
   "name": "python",
   "nbconvert_exporter": "python",
   "pygments_lexer": "ipython2",
   "version": "2.7.12"
  }
 },
 "nbformat": 4,
 "nbformat_minor": 2
}
