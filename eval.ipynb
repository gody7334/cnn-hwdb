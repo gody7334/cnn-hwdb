{
 "cells": [
  {
   "cell_type": "code",
   "execution_count": null,
   "metadata": {
    "scrolled": true
   },
   "outputs": [
    {
     "name": "stdout",
     "output_type": "stream",
     "text": [
      "1026\n",
      "(?,)\n",
      "(?,)\n",
      "(32, 32, 1)\n",
      "(1,)\n",
      "(32, 32, 1)\n",
      "(1,)\n",
      "2017-06-12 10:53:07.929706: W tensorflow/core/platform/cpu_feature_guard.cc:45] The TensorFlow library wasn't compiled to use SSE4.1 instructions, but these are available on your machine and could speed up CPU computations.\n",
      "2017-06-12 10:53:07.929738: W tensorflow/core/platform/cpu_feature_guard.cc:45] The TensorFlow library wasn't compiled to use SSE4.2 instructions, but these are available on your machine and could speed up CPU computations.\n",
      "2017-06-12 10:53:07.929750: W tensorflow/core/platform/cpu_feature_guard.cc:45] The TensorFlow library wasn't compiled to use AVX instructions, but these are available on your machine and could speed up CPU computations.\n",
      "2017-06-12 10:53:08.009660: I tensorflow/stream_executor/cuda/cuda_gpu_executor.cc:901] successful NUMA node read from SysFS had negative value (-1), but there must be at least one NUMA node, so returning NUMA node zero\n",
      "2017-06-12 10:53:08.010042: I tensorflow/core/common_runtime/gpu/gpu_device.cc:887] Found device 0 with properties: \n",
      "name: GeForce GTX 980\n",
      "major: 5 minor: 2 memoryClockRate (GHz) 1.342\n",
      "pciBusID 0000:01:00.0\n",
      "Total memory: 3.94GiB\n",
      "Free memory: 2.17GiB\n",
      "2017-06-12 10:53:08.010084: I tensorflow/core/common_runtime/gpu/gpu_device.cc:908] DMA: 0 \n",
      "2017-06-12 10:53:08.010099: I tensorflow/core/common_runtime/gpu/gpu_device.cc:918] 0:   Y \n",
      "2017-06-12 10:53:08.010115: I tensorflow/core/common_runtime/gpu/gpu_device.cc:977] Creating TensorFlow device (/gpu:0) -> (device: 0, name: GeForce GTX 980, pci bus id: 0000:01:00.0)\n",
      "INFO:tensorflow:Loading checkpoint /home/ipython/cnn-chinese-hand-writing/tb-log/hwdb1-resnet5/log/model.ckpt-1\n",
      "INFO:tensorflow:Restoring parameters from /home/ipython/cnn-chinese-hand-writing/tb-log/hwdb1-resnet5/log/model.ckpt-1\n",
      "INFO:tensorflow:loss: 8.972, precision: 0.000, best precision: 0.000\n",
      "INFO:tensorflow:Loading checkpoint /home/ipython/cnn-chinese-hand-writing/tb-log/hwdb1-resnet5/log/model.ckpt-1\n",
      "INFO:tensorflow:Restoring parameters from /home/ipython/cnn-chinese-hand-writing/tb-log/hwdb1-resnet5/log/model.ckpt-1\n",
      "INFO:tensorflow:loss: 9.169, precision: 0.000, best precision: 0.000\n",
      "INFO:tensorflow:Loading checkpoint /home/ipython/cnn-chinese-hand-writing/tb-log/hwdb1-resnet5/log/model.ckpt-1\n",
      "INFO:tensorflow:Restoring parameters from /home/ipython/cnn-chinese-hand-writing/tb-log/hwdb1-resnet5/log/model.ckpt-1\n",
      "INFO:tensorflow:loss: 9.108, precision: 0.000, best precision: 0.000\n",
      "INFO:tensorflow:Loading checkpoint /home/ipython/cnn-chinese-hand-writing/tb-log/hwdb1-resnet5/log/model.ckpt-3492\n",
      "INFO:tensorflow:Restoring parameters from /home/ipython/cnn-chinese-hand-writing/tb-log/hwdb1-resnet5/log/model.ckpt-3492\n",
      "INFO:tensorflow:loss: 5.474, precision: 0.122, best precision: 0.122\n",
      "INFO:tensorflow:Loading checkpoint /home/ipython/cnn-chinese-hand-writing/tb-log/hwdb1-resnet5/log/model.ckpt-3492\n",
      "INFO:tensorflow:Restoring parameters from /home/ipython/cnn-chinese-hand-writing/tb-log/hwdb1-resnet5/log/model.ckpt-3492\n",
      "INFO:tensorflow:loss: 5.719, precision: 0.104, best precision: 0.122\n"
     ]
    }
   ],
   "source": [
    "!python resnet_main.py \\\n",
    "--eval_data_path=/home/data/HWDB1-bin/test.bin \\\n",
    "--log_root=/home/ipython/cnn-chinese-hand-writing/tb-log/hwdb1-resnet5/log \\\n",
    "--eval_dir=/home/ipython/cnn-chinese-hand-writing/tb-log/hwdb1-resnet5/test \\\n",
    "--mode=eval --num_residual_units=5 \\\n",
    "--dataset='hwdb1' --num_gpus=1"
   ]
  }
 ],
 "metadata": {
  "kernelspec": {
   "display_name": "Python 2",
   "language": "python",
   "name": "python2"
  },
  "language_info": {
   "codemirror_mode": {
    "name": "ipython",
    "version": 2
   },
   "file_extension": ".py",
   "mimetype": "text/x-python",
   "name": "python",
   "nbconvert_exporter": "python",
   "pygments_lexer": "ipython2",
   "version": "2.7.12"
  }
 },
 "nbformat": 4,
 "nbformat_minor": 2
}
