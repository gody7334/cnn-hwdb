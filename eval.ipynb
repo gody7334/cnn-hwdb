{
 "cells": [
  {
   "cell_type": "code",
   "execution_count": null,
   "metadata": {
    "collapsed": true
   },
   "outputs": [],
   "source": []
  },
  {
   "cell_type": "code",
   "execution_count": null,
   "metadata": {
    "scrolled": true
   },
   "outputs": [
    {
     "name": "stdout",
     "output_type": "stream",
     "text": [
      "1026\n",
      "(?,)\n",
      "(?,)\n",
      "(32, 32, 1)\n",
      "(1,)\n",
      "(32, 32, 1)\n",
      "(1,)\n",
      "2017-06-13 13:15:38.607508: W tensorflow/core/platform/cpu_feature_guard.cc:45] The TensorFlow library wasn't compiled to use SSE4.1 instructions, but these are available on your machine and could speed up CPU computations.\n",
      "2017-06-13 13:15:38.607545: W tensorflow/core/platform/cpu_feature_guard.cc:45] The TensorFlow library wasn't compiled to use SSE4.2 instructions, but these are available on your machine and could speed up CPU computations.\n",
      "2017-06-13 13:15:38.607556: W tensorflow/core/platform/cpu_feature_guard.cc:45] The TensorFlow library wasn't compiled to use AVX instructions, but these are available on your machine and could speed up CPU computations.\n",
      "2017-06-13 13:15:38.700377: I tensorflow/stream_executor/cuda/cuda_gpu_executor.cc:901] successful NUMA node read from SysFS had negative value (-1), but there must be at least one NUMA node, so returning NUMA node zero\n",
      "2017-06-13 13:15:38.700667: I tensorflow/core/common_runtime/gpu/gpu_device.cc:887] Found device 0 with properties: \n",
      "name: GeForce GTX 980\n",
      "major: 5 minor: 2 memoryClockRate (GHz) 1.342\n",
      "pciBusID 0000:01:00.0\n",
      "Total memory: 3.94GiB\n",
      "Free memory: 111.62MiB\n",
      "2017-06-13 13:15:38.700693: I tensorflow/core/common_runtime/gpu/gpu_device.cc:908] DMA: 0 \n",
      "2017-06-13 13:15:38.700704: I tensorflow/core/common_runtime/gpu/gpu_device.cc:918] 0:   Y \n",
      "2017-06-13 13:15:38.700717: I tensorflow/core/common_runtime/gpu/gpu_device.cc:977] Creating TensorFlow device (/gpu:0) -> (device: 0, name: GeForce GTX 980, pci bus id: 0000:01:00.0)\n",
      "INFO:tensorflow:Loading checkpoint /home/ipython/cnn-chinese-hand-writing/tb-log/hwdb1-resnet-w28-10/log/model.ckpt-1\n",
      "INFO:tensorflow:Restoring parameters from /home/ipython/cnn-chinese-hand-writing/tb-log/hwdb1-resnet-w28-10/log/model.ckpt-1\n",
      "INFO:tensorflow:loss: 9.620, precision: 0.000, best precision: 0.000\n",
      "INFO:tensorflow:Loading checkpoint /home/ipython/cnn-chinese-hand-writing/tb-log/hwdb1-resnet-w28-10/log/model.ckpt-1453\n",
      "INFO:tensorflow:Restoring parameters from /home/ipython/cnn-chinese-hand-writing/tb-log/hwdb1-resnet-w28-10/log/model.ckpt-1453\n",
      "INFO:tensorflow:loss: 7.173, precision: 0.035, best precision: 0.035\n",
      "INFO:tensorflow:Loading checkpoint /home/ipython/cnn-chinese-hand-writing/tb-log/hwdb1-resnet-w28-10/log/model.ckpt-2879\n",
      "INFO:tensorflow:Restoring parameters from /home/ipython/cnn-chinese-hand-writing/tb-log/hwdb1-resnet-w28-10/log/model.ckpt-2879\n",
      "INFO:tensorflow:Loading checkpoint /home/ipython/cnn-chinese-hand-writing/tb-log/hwdb1-resnet-w28-10/log/model.ckpt-4303\n",
      "INFO:tensorflow:Restoring parameters from /home/ipython/cnn-chinese-hand-writing/tb-log/hwdb1-resnet-w28-10/log/model.ckpt-4303\n",
      "INFO:tensorflow:loss: 4.413, precision: 0.581, best precision: 0.581\n",
      "INFO:tensorflow:Loading checkpoint /home/ipython/cnn-chinese-hand-writing/tb-log/hwdb1-resnet-w28-10/log/model.ckpt-5767\n",
      "INFO:tensorflow:Restoring parameters from /home/ipython/cnn-chinese-hand-writing/tb-log/hwdb1-resnet-w28-10/log/model.ckpt-5767\n",
      "INFO:tensorflow:loss: 3.253, precision: 0.702, best precision: 0.702\n",
      "INFO:tensorflow:Loading checkpoint /home/ipython/cnn-chinese-hand-writing/tb-log/hwdb1-resnet-w28-10/log/model.ckpt-6506\n",
      "INFO:tensorflow:Restoring parameters from /home/ipython/cnn-chinese-hand-writing/tb-log/hwdb1-resnet-w28-10/log/model.ckpt-6506\n",
      "INFO:tensorflow:loss: 1.691, precision: 0.579, best precision: 0.702\n",
      "INFO:tensorflow:Loading checkpoint /home/ipython/cnn-chinese-hand-writing/tb-log/hwdb1-resnet-w28-10/log/model.ckpt-7976\n",
      "INFO:tensorflow:Restoring parameters from /home/ipython/cnn-chinese-hand-writing/tb-log/hwdb1-resnet-w28-10/log/model.ckpt-7976\n",
      "INFO:tensorflow:loss: 1.336, precision: 0.895, best precision: 0.895\n",
      "INFO:tensorflow:Loading checkpoint /home/ipython/cnn-chinese-hand-writing/tb-log/hwdb1-resnet-w28-10/log/model.ckpt-9450\n",
      "INFO:tensorflow:Restoring parameters from /home/ipython/cnn-chinese-hand-writing/tb-log/hwdb1-resnet-w28-10/log/model.ckpt-9450\n",
      "INFO:tensorflow:loss: 2.665, precision: 0.772, best precision: 0.895\n",
      "INFO:tensorflow:Loading checkpoint /home/ipython/cnn-chinese-hand-writing/tb-log/hwdb1-resnet-w28-10/log/model.ckpt-10184\n",
      "INFO:tensorflow:Restoring parameters from /home/ipython/cnn-chinese-hand-writing/tb-log/hwdb1-resnet-w28-10/log/model.ckpt-10184\n"
     ]
    }
   ],
   "source": [
    "# w28-10 set filter in resnet_model\n",
    "!python resnet_main.py \\\n",
    "--eval_data_path=/home/data/HWDB1-bin/test.bin \\\n",
    "--log_root=/home/ipython/cnn-chinese-hand-writing/tb-log/hwdb1-resnet-w28-10/log \\\n",
    "--eval_dir=/home/ipython/cnn-chinese-hand-writing/tb-log/hwdb1-resnet-w28-10/test \\\n",
    "--mode=eval --num_residual_units=2 \\\n",
    "--dataset='hwdb1' --num_gpus=0"
   ]
  },
  {
   "cell_type": "code",
   "execution_count": null,
   "metadata": {
    "collapsed": true
   },
   "outputs": [],
   "source": [
    "# resnet15-accuracy: 94.2\n",
    "# resnet10-accuracy: 93.9\n",
    "# resnet10-accuracy: 92.9"
   ]
  }
 ],
 "metadata": {
  "kernelspec": {
   "display_name": "Python 2",
   "language": "python",
   "name": "python2"
  },
  "language_info": {
   "codemirror_mode": {
    "name": "ipython",
    "version": 2
   },
   "file_extension": ".py",
   "mimetype": "text/x-python",
   "name": "python",
   "nbconvert_exporter": "python",
   "pygments_lexer": "ipython2",
   "version": "2.7.12"
  }
 },
 "nbformat": 4,
 "nbformat_minor": 2
}
